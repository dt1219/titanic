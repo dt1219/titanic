{
 "cells": [
  {
   "cell_type": "code",
   "execution_count": null,
   "metadata": {
    "collapsed": true
   },
   "outputs": [],
   "source": [
    "# Imports\n",
    "\n",
    "# pandas\n",
    "import pandas as pd\n",
    "from pandas import Series,DataFrame\n",
    "pd.options.display.max_columns = 100\n",
    "pd.options.display.max_rows = 100\n",
    "\n",
    "# numpy, matplotlib, seaborn\n",
    "import numpy as np\n",
    "import matplotlib.pyplot as plt\n",
    "import seaborn as sns\n",
    "sns.set_style('whitegrid')\n",
    "%matplotlib inline"
   ]
  },
  {
   "cell_type": "code",
   "execution_count": null,
   "metadata": {
    "collapsed": true
   },
   "outputs": [],
   "source": [
    "# get titanic & test csv files as a DataFrame\n",
    "train_df = pd.read_csv(\"train.csv\")\n",
    "test_df = pd.read_csv(\"test.csv\")"
   ]
  },
  {
   "cell_type": "code",
   "execution_count": null,
   "metadata": {
    "collapsed": true
   },
   "outputs": [],
   "source": [
    "df = pd.concat([train_df, test_df])\n",
    "df.reset_index(inplace = True)\n",
    "df.drop('index', axis = 1, inplace = True)\n",
    "df = df.reindex_axis(train_df.columns, axis = 1)"
   ]
  },
  {
   "cell_type": "code",
   "execution_count": null,
   "metadata": {
    "collapsed": false
   },
   "outputs": [],
   "source": [
    "df.shape"
   ]
  },
  {
   "cell_type": "code",
   "execution_count": null,
   "metadata": {
    "collapsed": true
   },
   "outputs": [],
   "source": [
    "#Feature Engnieering"
   ]
  },
  {
   "cell_type": "code",
   "execution_count": null,
   "metadata": {
    "collapsed": false
   },
   "outputs": [],
   "source": [
    "import re\n",
    "df['Title'] = df['Name'].map(lambda x : re.compile(r',(.*?)\\.').findall(x)[0].strip())"
   ]
  },
  {
   "cell_type": "code",
   "execution_count": null,
   "metadata": {
    "collapsed": false
   },
   "outputs": [],
   "source": [
    "df['Title'].value_counts()"
   ]
  },
  {
   "cell_type": "code",
   "execution_count": null,
   "metadata": {
    "collapsed": false
   },
   "outputs": [],
   "source": [
    "# a map of more aggregated titles\n",
    "Title_Dictionary = {\n",
    "                        \"Capt\":       \"Officer\",\n",
    "                        \"Col\":        \"Officer\",\n",
    "                        \"Major\":      \"Officer\",\n",
    "                        \"Jonkheer\":   \"Royalty\",\n",
    "                        \"Don\":        \"Royalty\",\n",
    "                        \"Sir\" :       \"Royalty\",\n",
    "                        \"Dr\":         \"Officer\",\n",
    "                        \"Rev\":        \"Officer\",\n",
    "                        \"the Countess\":\"Royalty\",\n",
    "                        \"Dona\":       \"Royalty\",\n",
    "                        \"Mme\":        \"Mrs\",\n",
    "                        \"Mlle\":       \"Miss\",\n",
    "                        \"Ms\":         \"Mrs\",\n",
    "                        \"Mr\" :        \"Mr\",\n",
    "                        \"Mrs\" :       \"Mrs\",\n",
    "                        \"Miss\" :      \"Miss\",\n",
    "                        \"Master\" :    \"Master\",\n",
    "                        \"Lady\" :      \"Royalty\"\n",
    "                        }"
   ]
  },
  {
   "cell_type": "code",
   "execution_count": null,
   "metadata": {
    "collapsed": true
   },
   "outputs": [],
   "source": [
    "df['Title'] = df['Title'].map(Title_Dictionary)"
   ]
  },
  {
   "cell_type": "code",
   "execution_count": null,
   "metadata": {
    "collapsed": false
   },
   "outputs": [],
   "source": [
    "df['Title'].value_counts()"
   ]
  },
  {
   "cell_type": "code",
   "execution_count": null,
   "metadata": {
    "collapsed": false
   },
   "outputs": [],
   "source": [
    "#df.head()"
   ]
  },
  {
   "cell_type": "code",
   "execution_count": null,
   "metadata": {
    "collapsed": false
   },
   "outputs": [],
   "source": [
    "grouped = df.groupby(['Sex','Pclass','Title'])\n",
    "grouped.median()"
   ]
  },
  {
   "cell_type": "code",
   "execution_count": null,
   "metadata": {
    "collapsed": true
   },
   "outputs": [],
   "source": [
    "def fillAges(row):\n",
    "        if row['Sex']=='female' and row['Pclass'] == 1:\n",
    "            if row['Title'] == 'Miss':\n",
    "                return 30\n",
    "            elif row['Title'] == 'Mrs':\n",
    "                return 45\n",
    "            elif row['Title'] == 'Officer':\n",
    "                return 49\n",
    "            elif row['Title'] == 'Royalty':\n",
    "                return 39\n",
    "\n",
    "        elif row['Sex']=='female' and row['Pclass'] == 2:\n",
    "            if row['Title'] == 'Miss':\n",
    "                return 20\n",
    "            elif row['Title'] == 'Mrs':\n",
    "                return 30\n",
    "\n",
    "        elif row['Sex']=='female' and row['Pclass'] == 3:\n",
    "            if row['Title'] == 'Miss':\n",
    "                return 18\n",
    "            elif row['Title'] == 'Mrs':\n",
    "                return 31\n",
    "\n",
    "        elif row['Sex']=='male' and row['Pclass'] == 1:\n",
    "            if row['Title'] == 'Master':\n",
    "                return 6\n",
    "            elif row['Title'] == 'Mr':\n",
    "                return 41.5\n",
    "            elif row['Title'] == 'Officer':\n",
    "                return 52\n",
    "            elif row['Title'] == 'Royalty':\n",
    "                return 40\n",
    "\n",
    "        elif row['Sex']=='male' and row['Pclass'] == 2:\n",
    "            if row['Title'] == 'Master':\n",
    "                return 2\n",
    "            elif row['Title'] == 'Mr':\n",
    "                return 30\n",
    "            elif row['Title'] == 'Officer':\n",
    "                return 41.5\n",
    "\n",
    "        elif row['Sex']=='male' and row['Pclass'] == 3:\n",
    "            if row['Title'] == 'Master':\n",
    "                return 6\n",
    "            elif row['Title'] == 'Mr':\n",
    "                return 26"
   ]
  },
  {
   "cell_type": "code",
   "execution_count": null,
   "metadata": {
    "collapsed": true
   },
   "outputs": [],
   "source": [
    "df['Age']= df.apply(lambda r : fillAges(r) if np.isnan(r['Age']) else r['Age'], axis=1)"
   ]
  },
  {
   "cell_type": "code",
   "execution_count": null,
   "metadata": {
    "collapsed": true
   },
   "outputs": [],
   "source": [
    "df.loc[(df['Age']<=13), 'Age_bin_id'] = 0\n",
    "df.loc[(df['Age']>13) & (df['Age']<=47), 'Age_bin_id'] = 1\n",
    "df.loc[(df['Age']>47) & (df['Age']<64), 'Age_bin_id'] = 2\n",
    "df.loc[(df['Age']>=64), 'Age_bin_id'] = 3"
   ]
  },
  {
   "cell_type": "code",
   "execution_count": null,
   "metadata": {
    "collapsed": false
   },
   "outputs": [],
   "source": [
    "#df['Age'].isnull().sum()"
   ]
  },
  {
   "cell_type": "code",
   "execution_count": null,
   "metadata": {
    "collapsed": true
   },
   "outputs": [],
   "source": [
    "title_dummies_titanic  = pd.get_dummies(df['Title']).rename(columns = lambda x : 'Title_' + str(x))\n",
    "df = df.join(title_dummies_titanic)"
   ]
  },
  {
   "cell_type": "code",
   "execution_count": null,
   "metadata": {
    "collapsed": false
   },
   "outputs": [],
   "source": [
    "df.head()"
   ]
  },
  {
   "cell_type": "code",
   "execution_count": null,
   "metadata": {
    "collapsed": false
   },
   "outputs": [],
   "source": [
    "df.info()"
   ]
  },
  {
   "cell_type": "code",
   "execution_count": null,
   "metadata": {
    "collapsed": true
   },
   "outputs": [],
   "source": [
    "df['Name_Len'] = df['Name'].map(lambda s : len(re.split(' ',s)))"
   ]
  },
  {
   "cell_type": "code",
   "execution_count": null,
   "metadata": {
    "collapsed": true
   },
   "outputs": [],
   "source": [
    "from sklearn.preprocessing import StandardScaler"
   ]
  },
  {
   "cell_type": "code",
   "execution_count": null,
   "metadata": {
    "collapsed": false
   },
   "outputs": [],
   "source": [
    "scaler1 = StandardScaler()\n",
    "df['Name_len_scaled'] = scaler1.fit_transform(df['Name_Len'])"
   ]
  },
  {
   "cell_type": "code",
   "execution_count": null,
   "metadata": {
    "collapsed": true
   },
   "outputs": [],
   "source": [
    "df.loc[df['Fare'].isnull(), 'Fare'] = df['Fare'].mean()"
   ]
  },
  {
   "cell_type": "code",
   "execution_count": null,
   "metadata": {
    "collapsed": false
   },
   "outputs": [],
   "source": [
    "df.loc[df['Embarked'].isnull(), 'Embarked'] = df['Embarked'].dropna().mode().values"
   ]
  },
  {
   "cell_type": "code",
   "execution_count": null,
   "metadata": {
    "collapsed": true
   },
   "outputs": [],
   "source": [
    "embarked_dummies_titanic  = pd.get_dummies(df['Embarked']).rename(columns = lambda x : 'Embarked_' + str(x))\n",
    "df = df.join(embarked_dummies_titanic)"
   ]
  },
  {
   "cell_type": "code",
   "execution_count": null,
   "metadata": {
    "collapsed": false
   },
   "outputs": [],
   "source": [
    "df.loc[df['Cabin'].isnull(), 'Cabin'] = 'U0'\n",
    "df['CabinLetter'] = df['Cabin'].map(lambda x : re.compile(\"([a-zA-Z]+)\").search(x).group())"
   ]
  },
  {
   "cell_type": "code",
   "execution_count": null,
   "metadata": {
    "collapsed": false
   },
   "outputs": [],
   "source": [
    "df['CabinLetter'] .value_counts()"
   ]
  },
  {
   "cell_type": "code",
   "execution_count": null,
   "metadata": {
    "collapsed": true
   },
   "outputs": [],
   "source": [
    "cabin_dummies_titanic  = pd.get_dummies(df['CabinLetter']).rename(columns = lambda x : 'Cabin_' + str(x))\n",
    "df = df.join(cabin_dummies_titanic)"
   ]
  },
  {
   "cell_type": "code",
   "execution_count": null,
   "metadata": {
    "collapsed": false
   },
   "outputs": [],
   "source": [
    "pattern = re.compile(r'\\D{1}([0-9]+)|(\\D{1})')\n",
    "df['Room'] = df['Cabin'].map( lambda x : pattern.search(x).group(1) if (pattern.search(x).group(1) != None) else 0).astype(int) + 1"
   ]
  },
  {
   "cell_type": "code",
   "execution_count": null,
   "metadata": {
    "collapsed": false
   },
   "outputs": [],
   "source": [
    "df['Sex'] = df['Sex'].map({'male':1,'female':0})"
   ]
  },
  {
   "cell_type": "code",
   "execution_count": null,
   "metadata": {
    "collapsed": false
   },
   "outputs": [],
   "source": [
    "pclass_dummies_titanic = pd.get_dummies(df['Pclass'],prefix=\"Pclass\")"
   ]
  },
  {
   "cell_type": "code",
   "execution_count": null,
   "metadata": {
    "collapsed": false
   },
   "outputs": [],
   "source": [
    "df = df.join(pclass_dummies_titanic)"
   ]
  },
  {
   "cell_type": "code",
   "execution_count": null,
   "metadata": {
    "collapsed": false
   },
   "outputs": [],
   "source": [
    "def getTicketPrefix(ticket):\n",
    "    match = re.compile(r'([a-zA-Z./]+)').search(ticket)\n",
    "    if match :\n",
    "        return match.group()\n",
    "    else :\n",
    "        return 'U'"
   ]
  },
  {
   "cell_type": "code",
   "execution_count": null,
   "metadata": {
    "collapsed": true
   },
   "outputs": [],
   "source": [
    "def getTicketNumber(ticket):\n",
    "    match = re.compile(r'([\\d]+$)').search(ticket)\n",
    "    if match:\n",
    "        return match.group()\n",
    "    else:\n",
    "        return '0'"
   ]
  },
  {
   "cell_type": "code",
   "execution_count": null,
   "metadata": {
    "collapsed": true
   },
   "outputs": [],
   "source": [
    "df['TicketPrefix'] = df['Ticket'].map( lambda x : getTicketPrefix(x.upper()))\n",
    "df['TicketPrefix'] = df['TicketPrefix'].map( lambda x : re.sub(r'[.?/?]', '', x))\n",
    "df['TicketPrefix'] = df['TicketPrefix'].map( lambda x : re.sub('STON', 'SOTON', x))"
   ]
  },
  {
   "cell_type": "code",
   "execution_count": null,
   "metadata": {
    "collapsed": true
   },
   "outputs": [],
   "source": [
    "df.loc[(df['TicketPrefix']=='SOTONOQ') | (df['TicketPrefix']=='SOTONO') |\n",
    "       (df['TicketPrefix']=='CASOTON'), 'TicketPrefix'] = 'SOTON'"
   ]
  },
  {
   "cell_type": "code",
   "execution_count": null,
   "metadata": {
    "collapsed": false
   },
   "outputs": [],
   "source": [
    "prefixe_dummies_titanic = pd.get_dummies(df['TicketPrefix'],prefix=\"Ticket\")\n",
    "df = df.join(prefixe_dummies_titanic)"
   ]
  },
  {
   "cell_type": "code",
   "execution_count": null,
   "metadata": {
    "collapsed": true
   },
   "outputs": [],
   "source": [
    "df['TicketNumber'] = df['Ticket'].map( lambda x: getTicketNumber(x) )"
   ]
  },
  {
   "cell_type": "code",
   "execution_count": null,
   "metadata": {
    "collapsed": true
   },
   "outputs": [],
   "source": [
    "df['TicketNumberDigits'] = df['TicketNumber'].map( lambda x: len(x)).astype(np.int)\n",
    "df['TicketNumberStart'] = df['TicketNumber'].map( lambda x: x[0:1]).astype(np.int)"
   ]
  },
  {
   "cell_type": "code",
   "execution_count": null,
   "metadata": {
    "collapsed": false
   },
   "outputs": [],
   "source": [
    "df['FamilySize'] = df['Parch'] + df['SibSp'] + 1"
   ]
  },
  {
   "cell_type": "code",
   "execution_count": null,
   "metadata": {
    "collapsed": true
   },
   "outputs": [],
   "source": [
    "df['Singleton'] = df['FamilySize'].map(lambda s : 1 if s == 1 else 0)\n",
    "df['SmallFamily'] = df['FamilySize'].map(lambda s : 1 if 2<=s<=4 else 0)\n",
    "df['LargeFamily'] = df['FamilySize'].map(lambda s : 1 if 5<=s else 0)"
   ]
  },
  {
   "cell_type": "code",
   "execution_count": null,
   "metadata": {
    "collapsed": true
   },
   "outputs": [],
   "source": [
    "df.loc[(df['Age']<=13), 'Child'] = 1\n",
    "df.loc[(df['Age']>13), 'Child'] = 0\n",
    "df.loc[(df['Title_Mrs']==1) & (df['Parch']>0) & (df['Age']>=25), 'Mother'] = 1\n",
    "df.loc[~((df['Title_Mrs']==1) & (df['Parch']>0) & (df['Age']>=25)), 'Mother'] = 0"
   ]
  },
  {
   "cell_type": "code",
   "execution_count": null,
   "metadata": {
    "collapsed": false
   },
   "outputs": [],
   "source": [
    "# average survived passengers by Fare_bin\n",
    "fig, (axis1,axis2) = plt.subplots(1,2,figsize=(10,5))\n",
    "sur_by_child= df.loc[(df['Survived'].notnull()),[\"Child\",\"Survived\"]].groupby([\"Child\"],as_index=False).mean()\n",
    "sur_by_mother= df.loc[(df['Survived'].notnull()),[\"Mother\",\"Survived\"]].groupby([\"Mother\"],as_index=False).mean()\n",
    "sns.barplot(x='Child', y='Survived', data=sur_by_child, ax=axis1)\n",
    "sns.barplot(x='Mother', y='Survived', data=sur_by_mother, ax=axis2)"
   ]
  },
  {
   "cell_type": "code",
   "execution_count": null,
   "metadata": {
    "collapsed": false
   },
   "outputs": [],
   "source": [
    "df = df.drop(['Name', 'Ticket', 'Cabin', 'Title', 'Name_Len', 'CabinLetter', 'TicketPrefix', 'TicketNumber','Embarked'], axis= 1)"
   ]
  },
  {
   "cell_type": "code",
   "execution_count": null,
   "metadata": {
    "collapsed": false
   },
   "outputs": [],
   "source": [
    "#df = df.drop(['Embarked'], axis= 1)"
   ]
  },
  {
   "cell_type": "code",
   "execution_count": null,
   "metadata": {
    "collapsed": false
   },
   "outputs": [],
   "source": [
    "scaler2 = StandardScaler()\n",
    "df['Age_scaled'] = scaler1.fit_transform(df['Age'])\n",
    "scaler3 = StandardScaler()\n",
    "df['Fare_scaled'] = scaler1.fit_transform(df['Fare'])"
   ]
  },
  {
   "cell_type": "code",
   "execution_count": null,
   "metadata": {
    "collapsed": false
   },
   "outputs": [],
   "source": [
    "df = df.drop(['Age', 'Fare'], axis= 1)"
   ]
  },
  {
   "cell_type": "code",
   "execution_count": null,
   "metadata": {
    "collapsed": true
   },
   "outputs": [],
   "source": [
    "from sklearn.pipeline import make_pipeline\n",
    "from sklearn.ensemble import RandomForestClassifier\n",
    "from sklearn.feature_selection import SelectKBest\n",
    "from sklearn.cross_validation import StratifiedKFold\n",
    "from sklearn.grid_search import GridSearchCV\n",
    "from sklearn.ensemble.gradient_boosting import GradientBoostingClassifier\n",
    "from sklearn.cross_validation import cross_val_score"
   ]
  },
  {
   "cell_type": "code",
   "execution_count": null,
   "metadata": {
    "collapsed": true
   },
   "outputs": [],
   "source": [
    "input_df = df.loc[df['Survived'].notnull()]\n",
    "output_df = df.loc[df['Survived'].isnull()]"
   ]
  },
  {
   "cell_type": "code",
   "execution_count": null,
   "metadata": {
    "collapsed": true
   },
   "outputs": [],
   "source": [
    "Xtrain = input_df.drop(['Survived','PassengerId'], axis =1)\n",
    "ytrain = input_df['Survived']\n",
    "Xtest = output_df.drop(['Survived','PassengerId'], axis =1)"
   ]
  },
  {
   "cell_type": "code",
   "execution_count": null,
   "metadata": {
    "collapsed": true
   },
   "outputs": [],
   "source": [
    "from sklearn.ensemble import ExtraTreesClassifier"
   ]
  },
  {
   "cell_type": "code",
   "execution_count": null,
   "metadata": {
    "collapsed": true
   },
   "outputs": [],
   "source": [
    "clf = ExtraTreesClassifier(n_estimators=1000)"
   ]
  },
  {
   "cell_type": "code",
   "execution_count": null,
   "metadata": {
    "collapsed": true
   },
   "outputs": [],
   "source": [
    "clf = clf.fit(Xtrain, ytrain)"
   ]
  },
  {
   "cell_type": "code",
   "execution_count": null,
   "metadata": {
    "collapsed": true
   },
   "outputs": [],
   "source": [
    "feature_importance = clf.feature_importances_\n",
    "feature_importance = 100.0 * (feature_importance / feature_importance.max())\n",
    "features_list = Xtrain.columns\n",
    "df_feature = pd.DataFrame({'Feature':features_list, 'Importance':feature_importance}).sort_values('Importance', ascending=False)"
   ]
  },
  {
   "cell_type": "code",
   "execution_count": null,
   "metadata": {
    "collapsed": false,
    "scrolled": true
   },
   "outputs": [],
   "source": [
    "fig, ax = plt.subplots(figsize = (8,12))\n",
    "feature_plot = df_feature.loc[(df_feature['Importance']>=10),]\n",
    "sns.set_color_codes(\"pastel\")\n",
    "sns.barplot(x=\"Importance\", y=\"Feature\", data=feature_plot, label=\"Importance\", color=\"b\")\n",
    "ax.legend(ncol=1, loc=\"lower right\", frameon=True)\n",
    "ax.set(xlim=(0,100), ylabel=\"\", xlabel=\"Importance for Feature greater than 10% of the Max Feature\")\n",
    "sns.despine(left=True, bottom=True)"
   ]
  },
  {
   "cell_type": "code",
   "execution_count": null,
   "metadata": {
    "collapsed": false
   },
   "outputs": [],
   "source": [
    "from sklearn.feature_selection import SelectFromModel\n",
    "model = SelectFromModel(clf, prefit=True)\n",
    "Xtrain_new = model.transform(Xtrain)"
   ]
  },
  {
   "cell_type": "code",
   "execution_count": null,
   "metadata": {
    "collapsed": false
   },
   "outputs": [],
   "source": [
    "Xtrain_new.shape"
   ]
  },
  {
   "cell_type": "code",
   "execution_count": null,
   "metadata": {
    "collapsed": false
   },
   "outputs": [],
   "source": [
    "Xtest_new = model.transform(Xtest)\n",
    "Xtest_new.shape"
   ]
  },
  {
   "cell_type": "code",
   "execution_count": null,
   "metadata": {
    "collapsed": true
   },
   "outputs": [],
   "source": [
    "forest = RandomForestClassifier()"
   ]
  },
  {
   "cell_type": "code",
   "execution_count": null,
   "metadata": {
    "collapsed": true
   },
   "outputs": [],
   "source": [
    "parameter_grid = {\n",
    "                 'max_depth' : [5,10,20],\n",
    "                 'n_estimators': [500, 1000,1500],\n",
    "                 'max_features': [3, 4, 5]\n",
    "                 }"
   ]
  },
  {
   "cell_type": "code",
   "execution_count": null,
   "metadata": {
    "collapsed": false
   },
   "outputs": [],
   "source": [
    "cross_validation = StratifiedKFold(ytrain, n_folds=5)"
   ]
  },
  {
   "cell_type": "code",
   "execution_count": null,
   "metadata": {
    "collapsed": true
   },
   "outputs": [],
   "source": [
    "grid_search = GridSearchCV(forest,\n",
    "                           param_grid=parameter_grid,\n",
    "                           cv=cross_validation, n_jobs=-1)"
   ]
  },
  {
   "cell_type": "code",
   "execution_count": null,
   "metadata": {
    "collapsed": false,
    "scrolled": true
   },
   "outputs": [],
   "source": [
    "grid_search.fit(Xtrain_new, ytrain)"
   ]
  },
  {
   "cell_type": "code",
   "execution_count": null,
   "metadata": {
    "collapsed": false
   },
   "outputs": [],
   "source": [
    "print('Best score: {}'.format(grid_search.best_score_))\n",
    "print('Best parameters: {}'.format(grid_search.best_params_))"
   ]
  },
  {
   "cell_type": "code",
   "execution_count": null,
   "metadata": {
    "collapsed": false
   },
   "outputs": [],
   "source": [
    "pred_on_train = grid_search.predict(Xtrain_new)"
   ]
  },
  {
   "cell_type": "code",
   "execution_count": null,
   "metadata": {
    "collapsed": false
   },
   "outputs": [],
   "source": [
    "ypred = pd.Series(pred_on_train)"
   ]
  },
  {
   "cell_type": "code",
   "execution_count": null,
   "metadata": {
    "collapsed": false
   },
   "outputs": [],
   "source": [
    "diff = ypred!=ytrain\n",
    "train_df['Predict_Wrong']=diff\n",
    "bad_cases = train_df.loc[train_df['Predict_Wrong']==True,:]\n",
    "dead_but_pred_alive = bad_cases.loc[bad_cases['Survived']==0]\n",
    "alive_but_pred_dead = bad_cases.loc[bad_cases['Survived']==1]"
   ]
  },
  {
   "cell_type": "code",
   "execution_count": null,
   "metadata": {
    "collapsed": false
   },
   "outputs": [],
   "source": [
    "dead_but_pred_alive.shape"
   ]
  },
  {
   "cell_type": "code",
   "execution_count": null,
   "metadata": {
    "collapsed": false
   },
   "outputs": [],
   "source": [
    "alive_but_pred_dead.shape"
   ]
  },
  {
   "cell_type": "code",
   "execution_count": null,
   "metadata": {
    "collapsed": true
   },
   "outputs": [],
   "source": [
    "from sklearn.learning_curve import learning_curve"
   ]
  },
  {
   "cell_type": "code",
   "execution_count": null,
   "metadata": {
    "collapsed": true
   },
   "outputs": [],
   "source": [
    "forest = RandomForestClassifier(n_estimators=500, max_features=3, max_depth=10)"
   ]
  },
  {
   "cell_type": "code",
   "execution_count": null,
   "metadata": {
    "collapsed": false
   },
   "outputs": [],
   "source": [
    "train_sizes, train_scores, val_scores = learning_curve(forest, Xtrain_new, ytrain, cv =10, n_jobs = -1, train_sizes=np.linspace(.1, 1., 10), verbose=0)"
   ]
  },
  {
   "cell_type": "code",
   "execution_count": null,
   "metadata": {
    "collapsed": true
   },
   "outputs": [],
   "source": [
    "train_scores_mean = np.mean(train_scores, axis = 1)\n",
    "train_scores_std = np.std(train_scores, axis = 1)\n",
    "val_scores_mean = np.mean(val_scores, axis = 1)\n",
    "val_scores_std = np.std(val_scores, axis = 1)"
   ]
  },
  {
   "cell_type": "code",
   "execution_count": null,
   "metadata": {
    "collapsed": false
   },
   "outputs": [],
   "source": [
    "plt.figure(figsize = (8,8))\n",
    "plt.title('Random Forest Classifier')\n",
    "plt.xlabel('Training examples')\n",
    "plt.ylabel('Score')\n",
    "\n",
    "plt.gca().invert_yaxis()\n",
    "plt.grid()\n",
    "\n",
    "# Plot the std deviation as a transparent range at each training set size\n",
    "plt.fill_between(train_sizes, train_scores_mean - train_scores_std, train_scores_mean + train_scores_std, \n",
    "                 alpha=0.1, color=\"b\")\n",
    "plt.fill_between(train_sizes, val_scores_mean - val_scores_std, val_scores_mean + val_scores_std, \n",
    "                 alpha=0.1, color=\"r\")\n",
    "\n",
    "# Plot the average training and test score lines at each training set size\n",
    "plt.plot(train_sizes, train_scores_mean, 'o-', color=\"b\", label=\"Train score\")\n",
    "plt.plot(train_sizes, val_scores_mean, 'o-', color=\"r\", label=\"CV score\")\n",
    "\n",
    "plt.legend(loc = 'best')\n",
    "# Draw the plot and reset the y-axis\n",
    "#plt.draw()\n",
    "#plt.show()\n",
    "\n",
    "plt.gca().invert_yaxis()"
   ]
  },
  {
   "cell_type": "code",
   "execution_count": null,
   "metadata": {
    "collapsed": true
   },
   "outputs": [],
   "source": [
    "clf = RandomForestClassifier(n_estimators=1000, max_features=3, max_depth=10)"
   ]
  },
  {
   "cell_type": "code",
   "execution_count": null,
   "metadata": {
    "collapsed": true
   },
   "outputs": [],
   "source": [
    "from sklearn.ensemble import BaggingRegressor"
   ]
  },
  {
   "cell_type": "code",
   "execution_count": null,
   "metadata": {
    "collapsed": true
   },
   "outputs": [],
   "source": [
    "bagging_clf = BaggingRegressor(clf, n_estimators=20, max_samples=0.8, max_features=1.0, bootstrap=True, bootstrap_features=False, n_jobs=-1)"
   ]
  },
  {
   "cell_type": "code",
   "execution_count": null,
   "metadata": {
    "collapsed": false
   },
   "outputs": [],
   "source": [
    "bagging_clf.fit(Xtrain_new, ytrain)"
   ]
  },
  {
   "cell_type": "code",
   "execution_count": null,
   "metadata": {
    "collapsed": true
   },
   "outputs": [],
   "source": [
    "output = bagging_clf.predict(Xtest_new).astype(int)"
   ]
  },
  {
   "cell_type": "code",
   "execution_count": null,
   "metadata": {
    "collapsed": true
   },
   "outputs": [],
   "source": [
    "submission = pd.DataFrame({\n",
    "        \"PassengerId\": output_df[\"PassengerId\"],\n",
    "        \"Survived\": output\n",
    "    })\n",
    "submission.to_csv('output_20161024_1.csv', index=False)"
   ]
  }
 ],
 "metadata": {
  "anaconda-cloud": {},
  "kernelspec": {
   "display_name": "Python [Root]",
   "language": "python",
   "name": "Python [Root]"
  },
  "language_info": {
   "codemirror_mode": {
    "name": "ipython",
    "version": 3
   },
   "file_extension": ".py",
   "mimetype": "text/x-python",
   "name": "python",
   "nbconvert_exporter": "python",
   "pygments_lexer": "ipython3",
   "version": "3.5.2"
  }
 },
 "nbformat": 4,
 "nbformat_minor": 0
}
